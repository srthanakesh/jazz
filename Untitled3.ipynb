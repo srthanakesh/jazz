{
  "nbformat": 4,
  "nbformat_minor": 0,
  "metadata": {
    "colab": {
      "provenance": [],
      "authorship_tag": "ABX9TyOcSb0UBYIlg00Zt2DR+1ZP",
      "include_colab_link": true
    },
    "kernelspec": {
      "name": "python3",
      "display_name": "Python 3"
    },
    "language_info": {
      "name": "python"
    }
  },
  "cells": [
    {
      "cell_type": "markdown",
      "metadata": {
        "id": "view-in-github",
        "colab_type": "text"
      },
      "source": [
        "<a href=\"https://colab.research.google.com/github/srthanakesh/jazz/blob/main/Untitled3.ipynb\" target=\"_parent\"><img src=\"https://colab.research.google.com/assets/colab-badge.svg\" alt=\"Open In Colab\"/></a>"
      ]
    },
    {
      "cell_type": "code",
      "execution_count": 8,
      "metadata": {
        "colab": {
          "base_uri": "https://localhost:8080/"
        },
        "id": "eDoHlZTCtOMG",
        "outputId": "297e0261-88fd-41d0-e493-91526ac502e8"
      },
      "outputs": [
        {
          "output_type": "stream",
          "name": "stdout",
          "text": [
            "[[1 2]\n",
            " [3 4]]\n",
            "\n",
            "[[0.67915782 0.85989033 0.91509897 0.53563355]\n",
            " [0.10876113 0.97387017 0.40493148 0.37994931]\n",
            " [0.65162781 0.84502599 0.1104812  0.08167897]]\n",
            "\n",
            "[[1. 1.]\n",
            " [1. 1.]\n",
            " [1. 1.]\n",
            " [1. 1.]]\n",
            "\n",
            "[[0. 0.]\n",
            " [0. 0.]\n",
            " [0. 0.]]\n",
            "\n",
            "[[ 1  2  3]\n",
            " [ 4  5  6]\n",
            " [ 7  8  9]\n",
            " [10 11 12]\n",
            " [13 14 15]\n",
            " [16 17 18]]\n",
            "\n",
            "[[ 1  4  7 10 13 16]\n",
            " [ 2  5  8 11 14 17]\n",
            " [ 3  6  9 12 15 18]]\n",
            "\n",
            "[[0.87295811 0.60850712 0.0208541  0.22835229]\n",
            " [0.02097518 0.56719752 0.21575866 0.4729892 ]\n",
            " [0.70228418 0.30237256 0.36349306 0.46716966]]\n",
            "\n",
            "[[0.58726862 0.37630287]\n",
            " [0.98821888 0.41109453]\n",
            " [0.4841864  0.44072464]\n",
            " [0.00285293 0.52187946]]\n",
            "\n",
            "[[1.12474788 0.70701388]\n",
            " [0.67865017 0.58299833]\n",
            " [0.88857094 0.79258186]]\n"
          ]
        }
      ],
      "source": [
        "import numpy as np\n",
        "import random\n",
        "\n",
        "arr = np.array([[1,2],[3,4]])\n",
        "print(arr)\n",
        "arr = np.random.rand(3,4)\n",
        "print(f'\\n{arr}')\n",
        "arr =np.ones((4,2))\n",
        "print(f'\\n{arr}')\n",
        "arr =np.zeros((3,2))\n",
        "print(f'\\n{arr}')\n",
        "n =3\n",
        "p=4\n",
        "m=2\n",
        "arrTest = np.array([[1,2,3],[4,5,6], [7,8,9],[10,11,12],[13,14,15],[16,17,18]])\n",
        "arr1 = np.random.rand(n,p)\n",
        "arr2 = np.random.rand(p,m)\n",
        "arrTrans = np.transpose(arrTest)\n",
        "print(f'\\n{arrTest}')\n",
        "print(f'\\n{arrTrans}')\n",
        "print(f'\\n{arr1}')\n",
        "print(f'\\n{arr2}')\n",
        "dot_product = np.dot(arr1,arr2)\n",
        "print(f'\\n{dot_product}')\n",
        "\n",
        "\n",
        "\n",
        "\n"
      ]
    }
  ]
}
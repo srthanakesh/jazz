{
  "nbformat": 4,
  "nbformat_minor": 0,
  "metadata": {
    "colab": {
      "provenance": [],
      "authorship_tag": "ABX9TyNDDDaPqyZSBEhafDE4SFf6",
      "include_colab_link": true
    },
    "kernelspec": {
      "name": "python3",
      "display_name": "Python 3"
    },
    "language_info": {
      "name": "python"
    }
  },
  "cells": [
    {
      "cell_type": "markdown",
      "metadata": {
        "id": "view-in-github",
        "colab_type": "text"
      },
      "source": [
        "<a href=\"https://colab.research.google.com/github/srthanakesh/jazz/blob/main/Untitled3.ipynb\" target=\"_parent\"><img src=\"https://colab.research.google.com/assets/colab-badge.svg\" alt=\"Open In Colab\"/></a>"
      ]
    },
    {
      "cell_type": "code",
      "execution_count": 6,
      "metadata": {
        "colab": {
          "base_uri": "https://localhost:8080/"
        },
        "id": "eDoHlZTCtOMG",
        "outputId": "30bac5a5-d2b2-443d-c0af-5fe591666c8f"
      },
      "outputs": [
        {
          "output_type": "stream",
          "name": "stdout",
          "text": [
            "[[1 2]\n",
            " [3 4]]\n",
            "\n",
            "[[0.25243205 0.02324739 0.15863554 0.31315975]\n",
            " [0.6814664  0.99909118 0.44971707 0.60242908]\n",
            " [0.40696784 0.53124431 0.81830441 0.65028673]]\n",
            "\n",
            "[[1. 1.]\n",
            " [1. 1.]\n",
            " [1. 1.]\n",
            " [1. 1.]]\n",
            "\n",
            "[[0. 0.]\n",
            " [0. 0.]\n",
            " [0. 0.]]\n",
            "\n",
            "[[0.2062472  0.18065802 0.5053468  0.42702893]\n",
            " [0.28027598 0.67879361 0.17343785 0.88752443]\n",
            " [0.68275872 0.1827864  0.27906545 0.53143119]]\n",
            "\n",
            "[[0.85332941 0.13367894]\n",
            " [0.99440353 0.0917618 ]\n",
            " [0.96727719 0.99111308]\n",
            " [0.94746955 0.10056329]]\n",
            "\n",
            "[[1.24905112 0.58794767]\n",
            " [1.92282735 0.36090322]\n",
            " [1.53783005 0.43807116]]\n"
          ]
        }
      ],
      "source": [
        "import numpy as np\n",
        "import random\n",
        "\n",
        "arr = np.array([[1,2],[3,4]])\n",
        "print(arr)\n",
        "arr = np.random.rand(3,4)\n",
        "print(f'\\n{arr}')\n",
        "arr =np.ones((4,2))\n",
        "print(f'\\n{arr}')\n",
        "arr =np.zeros((3,2))\n",
        "print(f'\\n{arr}')\n",
        "n =3\n",
        "p=4\n",
        "m=2\n",
        "arr1 = np.random.rand(n,p)\n",
        "arr2 = np.random.rand(p,m)\n",
        "print(f'\\n{arr1}')\n",
        "print(f'\\n{arr2}')\n",
        "dot_product = np.dot(arr1,arr2)\n",
        "print(f'\\n{dot_product}')\n",
        "\n",
        "\n",
        "\n",
        "\n"
      ]
    }
  ]
}
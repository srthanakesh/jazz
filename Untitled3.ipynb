{
  "nbformat": 4,
  "nbformat_minor": 0,
  "metadata": {
    "colab": {
      "provenance": [],
      "authorship_tag": "ABX9TyMKQghPMvkPNiJ0R5lk9D5t",
      "include_colab_link": true
    },
    "kernelspec": {
      "name": "python3",
      "display_name": "Python 3"
    },
    "language_info": {
      "name": "python"
    }
  },
  "cells": [
    {
      "cell_type": "markdown",
      "metadata": {
        "id": "view-in-github",
        "colab_type": "text"
      },
      "source": [
        "<a href=\"https://colab.research.google.com/github/srthanakesh/jazz/blob/main/Untitled3.ipynb\" target=\"_parent\"><img src=\"https://colab.research.google.com/assets/colab-badge.svg\" alt=\"Open In Colab\"/></a>"
      ]
    },
    {
      "cell_type": "code",
      "execution_count": 5,
      "metadata": {
        "colab": {
          "base_uri": "https://localhost:8080/"
        },
        "id": "eDoHlZTCtOMG",
        "outputId": "d2a54338-558e-47bd-f12c-36475a1ecaf5"
      },
      "outputs": [
        {
          "output_type": "stream",
          "name": "stdout",
          "text": [
            "[[1 2]\n",
            " [3 4]]\n",
            "\n",
            "[[0.18698334 0.40766424 0.75378932 0.66570087]\n",
            " [0.11393456 0.24041262 0.97472966 0.07595617]\n",
            " [0.0887359  0.44934409 0.13026527 0.81800665]]\n",
            "\n",
            "[[1. 1.]\n",
            " [1. 1.]\n",
            " [1. 1.]\n",
            " [1. 1.]]\n",
            "\n",
            "[[0. 0.]\n",
            " [0. 0.]\n",
            " [0. 0.]]\n"
          ]
        }
      ],
      "source": [
        "import numpy as np\n",
        "import random\n",
        "\n",
        "arr = np.array([[1,2],[3,4]])\n",
        "print(arr)\n",
        "arr = np.random.rand(3,4)\n",
        "print(f'\\n{arr}')\n",
        "arr =np.ones((4,2))\n",
        "print(f'\\n{arr}')\n",
        "arr =np.zeros((3,2))\n",
        "print(f'\\n{arr}')\n",
        "\n",
        "\n"
      ]
    }
  ]
}